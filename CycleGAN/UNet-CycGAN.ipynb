{
 "cells": [
  {
   "cell_type": "markdown",
   "id": "d80666d1-6740-41f6-ace9-2e6858cf8f98",
   "metadata": {},
   "source": [
    "# $lambda=0.01$"
   ]
  },
  {
   "cell_type": "markdown",
   "id": "7d32ca48-24a2-446e-99c6-39661d2c5e75",
   "metadata": {},
   "source": [
    "# Import dependencies"
   ]
  },
  {
   "cell_type": "code",
   "execution_count": 1,
   "id": "98de1380-2891-486f-88f4-91b4606561a4",
   "metadata": {},
   "outputs": [
    {
     "name": "stderr",
     "output_type": "stream",
     "text": [
      "2021-11-20 08:51:17.493654: I tensorflow/stream_executor/platform/default/dso_loader.cc:49] Successfully opened dynamic library libcudart.so.10.1\n",
      "/home/qc/anaconda3/envs/tf-gpu/lib/python3.9/site-packages/tensorflow_addons/utils/ensure_tf_install.py:53: UserWarning: Tensorflow Addons supports using Python ops for all Tensorflow versions above or equal to 2.5.0 and strictly below 2.8.0 (nightly versions are not supported). \n",
      " The versions of TensorFlow you are currently using is 2.4.1 and is not supported. \n",
      "Some things might work, some things might not.\n",
      "If you were to encounter a bug, do not file an issue.\n",
      "If you want to make sure you're using a tested and supported configuration, either change the TensorFlow version or the TensorFlow Addons's version. \n",
      "You can find the compatibility matrix in TensorFlow Addon's readme:\n",
      "https://github.com/tensorflow/addons\n",
      "  warnings.warn(\n"
     ]
    }
   ],
   "source": [
    "from tensorflow import keras\n",
    "import tensorflow.keras.backend as K\n",
    "import tensorflow as tf\n",
    "import tensorflow_addons as tfa\n",
    "import numpy as np\n",
    "from PIL import Image\n",
    "import warnings\n",
    "import os\n",
    "import random\n",
    "import datetime\n",
    "\n",
    "import matplotlib.pyplot as plt\n",
    "import matplotlib\n",
    "import seaborn as sns\n",
    "%matplotlib inline"
   ]
  },
  {
   "cell_type": "code",
   "execution_count": 2,
   "id": "7cf7b266-cd8b-4982-b569-25461a269675",
   "metadata": {},
   "outputs": [
    {
     "name": "stdout",
     "output_type": "stream",
     "text": [
      "TensorFlow 2.4.1; Keras 2.4.0\n"
     ]
    }
   ],
   "source": [
    "print('TensorFlow {}; Keras {}'.format(tf.__version__, keras.__version__))"
   ]
  },
  {
   "cell_type": "code",
   "execution_count": 3,
   "id": "88a0b4c5-5c1d-4ddf-b48b-a3b3616aaa15",
   "metadata": {},
   "outputs": [
    {
     "name": "stderr",
     "output_type": "stream",
     "text": [
      "2021-11-20 08:51:18.906695: I tensorflow/core/platform/cpu_feature_guard.cc:142] This TensorFlow binary is optimized with oneAPI Deep Neural Network Library (oneDNN) to use the following CPU instructions in performance-critical operations:  SSE4.1 SSE4.2 AVX AVX2 FMA\n",
      "To enable them in other operations, rebuild TensorFlow with the appropriate compiler flags.\n",
      "2021-11-20 08:51:18.908646: I tensorflow/stream_executor/platform/default/dso_loader.cc:49] Successfully opened dynamic library libcuda.so.1\n",
      "2021-11-20 08:51:18.945875: I tensorflow/stream_executor/cuda/cuda_gpu_executor.cc:941] successful NUMA node read from SysFS had negative value (-1), but there must be at least one NUMA node, so returning NUMA node zero\n",
      "2021-11-20 08:51:18.946324: I tensorflow/core/common_runtime/gpu/gpu_device.cc:1720] Found device 0 with properties: \n",
      "pciBusID: 0000:01:00.0 name: NVIDIA GeForce RTX 2070 computeCapability: 7.5\n",
      "coreClock: 1.455GHz coreCount: 36 deviceMemorySize: 7.79GiB deviceMemoryBandwidth: 327.88GiB/s\n",
      "2021-11-20 08:51:18.946356: I tensorflow/stream_executor/platform/default/dso_loader.cc:49] Successfully opened dynamic library libcudart.so.10.1\n",
      "2021-11-20 08:51:18.947895: I tensorflow/stream_executor/platform/default/dso_loader.cc:49] Successfully opened dynamic library libcublas.so.10\n",
      "2021-11-20 08:51:18.947940: I tensorflow/stream_executor/platform/default/dso_loader.cc:49] Successfully opened dynamic library libcublasLt.so.10\n",
      "2021-11-20 08:51:18.949074: I tensorflow/stream_executor/platform/default/dso_loader.cc:49] Successfully opened dynamic library libcufft.so.10\n",
      "2021-11-20 08:51:18.949263: I tensorflow/stream_executor/platform/default/dso_loader.cc:49] Successfully opened dynamic library libcurand.so.10\n",
      "2021-11-20 08:51:18.950505: I tensorflow/stream_executor/platform/default/dso_loader.cc:49] Successfully opened dynamic library libcusolver.so.10\n",
      "2021-11-20 08:51:18.951180: I tensorflow/stream_executor/platform/default/dso_loader.cc:49] Successfully opened dynamic library libcusparse.so.10\n",
      "2021-11-20 08:51:18.953861: I tensorflow/stream_executor/platform/default/dso_loader.cc:49] Successfully opened dynamic library libcudnn.so.7\n",
      "2021-11-20 08:51:18.953968: I tensorflow/stream_executor/cuda/cuda_gpu_executor.cc:941] successful NUMA node read from SysFS had negative value (-1), but there must be at least one NUMA node, so returning NUMA node zero\n",
      "2021-11-20 08:51:18.954355: I tensorflow/stream_executor/cuda/cuda_gpu_executor.cc:941] successful NUMA node read from SysFS had negative value (-1), but there must be at least one NUMA node, so returning NUMA node zero\n",
      "2021-11-20 08:51:18.954711: I tensorflow/core/common_runtime/gpu/gpu_device.cc:1862] Adding visible gpu devices: 0\n",
      "2021-11-20 08:51:18.954745: I tensorflow/stream_executor/platform/default/dso_loader.cc:49] Successfully opened dynamic library libcudart.so.10.1\n",
      "2021-11-20 08:51:19.374696: I tensorflow/core/common_runtime/gpu/gpu_device.cc:1261] Device interconnect StreamExecutor with strength 1 edge matrix:\n",
      "2021-11-20 08:51:19.374723: I tensorflow/core/common_runtime/gpu/gpu_device.cc:1267]      0 \n",
      "2021-11-20 08:51:19.374737: I tensorflow/core/common_runtime/gpu/gpu_device.cc:1280] 0:   N \n",
      "2021-11-20 08:51:19.374931: I tensorflow/stream_executor/cuda/cuda_gpu_executor.cc:941] successful NUMA node read from SysFS had negative value (-1), but there must be at least one NUMA node, so returning NUMA node zero\n",
      "2021-11-20 08:51:19.375289: I tensorflow/stream_executor/cuda/cuda_gpu_executor.cc:941] successful NUMA node read from SysFS had negative value (-1), but there must be at least one NUMA node, so returning NUMA node zero\n",
      "2021-11-20 08:51:19.375598: I tensorflow/stream_executor/cuda/cuda_gpu_executor.cc:941] successful NUMA node read from SysFS had negative value (-1), but there must be at least one NUMA node, so returning NUMA node zero\n",
      "2021-11-20 08:51:19.375929: I tensorflow/core/common_runtime/gpu/gpu_device.cc:1406] Created TensorFlow device (/device:GPU:0 with 6843 MB memory) -> physical GPU (device: 0, name: NVIDIA GeForce RTX 2070, pci bus id: 0000:01:00.0, compute capability: 7.5)\n",
      "2021-11-20 08:51:19.376235: I tensorflow/compiler/jit/xla_gpu_device.cc:99] Not creating XLA devices, tf_xla_enable_xla_devices not set\n"
     ]
    },
    {
     "data": {
      "text/plain": [
       "'/device:GPU:0'"
      ]
     },
     "execution_count": 3,
     "metadata": {},
     "output_type": "execute_result"
    }
   ],
   "source": [
    "tf.test.gpu_device_name()\n"
   ]
  },
  {
   "cell_type": "code",
   "execution_count": null,
   "id": "be133aa8-fc11-45c0-8944-68ab8ca2cd38",
   "metadata": {},
   "outputs": [],
   "source": []
  },
  {
   "cell_type": "markdown",
   "id": "5ccd8cc8-1ded-4316-8f9b-13d1c0c92d4b",
   "metadata": {},
   "source": [
    "# Define Parameters"
   ]
  },
  {
   "cell_type": "code",
   "execution_count": 4,
   "id": "01dfa2ec-f1fb-4cf4-a2fe-ecc6cde71637",
   "metadata": {},
   "outputs": [],
   "source": [
    "BASE_PATH = \"src_to_tar/\"\n",
    "TAR_BASE_PATH = \"./categorical-east/\"\n",
    "NUM_CLASSES = 4\n",
    "im_height, im_width = 256, 256\n",
    "test_ratio = 0.1\n",
    "BATCH_SIZE = 8\n",
    "NUM_EPOCHS = 50"
   ]
  },
  {
   "cell_type": "markdown",
   "id": "e02e7e01-f506-416b-b24a-15ce54ffa4c3",
   "metadata": {},
   "source": [
    "# Read Dataset"
   ]
  },
  {
   "cell_type": "code",
   "execution_count": 5,
   "id": "a518e356-189b-455a-a2f4-1ef9a90414b6",
   "metadata": {},
   "outputs": [
    {
     "name": "stdout",
     "output_type": "stream",
     "text": [
      "###SRC FILES###\n",
      "src_to_tar/\n",
      "1188\n",
      "###TAR FILES###\n",
      "./categorical-east/\n",
      "425\n"
     ]
    }
   ],
   "source": [
    "# Extrac name of files\n",
    "files = os.listdir(BASE_PATH)\n",
    "tar_files = os.listdir(TAR_BASE_PATH)\n",
    "files = [BASE_PATH + f for f in files]\n",
    "# files = files[:800]\n",
    "tar_files = [TAR_BASE_PATH + f for f in tar_files]\n",
    "print(\"###SRC FILES###\")\n",
    "print(BASE_PATH)\n",
    "print(len(files))\n",
    "print(\"###TAR FILES###\")\n",
    "print(TAR_BASE_PATH)\n",
    "print(len(tar_files))"
   ]
  },
  {
   "cell_type": "code",
   "execution_count": 6,
   "id": "f5289a9d-9b22-4cb1-b0ce-052e8e140b97",
   "metadata": {},
   "outputs": [
    {
     "name": "stdout",
     "output_type": "stream",
     "text": [
      "Train size: 963\n",
      "Validation size: 107\n",
      "Test size: 118\n",
      "src_to_tar/133.npy\n"
     ]
    }
   ],
   "source": [
    "random.seed(10)\n",
    "random.shuffle(files)\n",
    "random.shuffle(tar_files)\n",
    "test_size = int(len(files) * test_ratio)\n",
    "\n",
    "test_files = files[:test_size]\n",
    "non_test_files = files[test_size:]\n",
    "\n",
    "val_size = int(len(non_test_files) * test_ratio)\n",
    "val_files = non_test_files[:val_size]\n",
    "train_files = non_test_files[val_size:]\n",
    "\n",
    "print(\"Train size:\", len(train_files))\n",
    "print(\"Validation size:\", len(val_files))\n",
    "print(\"Test size:\", len(test_files))\n",
    "print(train_files[0])\n"
   ]
  },
  {
   "cell_type": "markdown",
   "id": "056810d5-fc93-4181-a791-2479fa4819d4",
   "metadata": {},
   "source": [
    "# Data Generator"
   ]
  },
  {
   "cell_type": "code",
   "execution_count": 7,
   "id": "5b2f8610-1f1d-4896-88ef-d3456ebd1ac1",
   "metadata": {},
   "outputs": [],
   "source": [
    "class DataGenerator(keras.utils.Sequence):\n",
    "    'Generate data for keras'\n",
    "    def __init__(self, image_paths, batch_size, augment, shuffle, normalize=False, gan=False,\n",
    "                minimum=0, maximum=0):\n",
    "        self.image_paths = image_paths\n",
    "        self.batch_size = batch_size\n",
    "        self.augment = augment\n",
    "        self.shuffle = shuffle\n",
    "        self.normalize = normalize\n",
    "        self.minimum = minimum\n",
    "        self.maximum = maximum\n",
    "        self.gan = gan\n",
    "        self.on_epoch_end()\n",
    "\n",
    "    def __len__(self):\n",
    "        'Denotes the number of batches per epoch'\n",
    "        return int(np.floor(len(self.image_paths) / self.batch_size))\n",
    "  \n",
    "\n",
    "    def on_epoch_end(self):\n",
    "        'Updates indices after each epoch'\n",
    "        self.indices = np.arange(len(self.image_paths))\n",
    "        if self.shuffle:\n",
    "              np.random.shuffle(self.indices)\n",
    "  \n",
    "    def __getitem__(self, index):\n",
    "        'Generate one batch of data'\n",
    "        # select indices of data for next batch\n",
    "        indices = self.indices[index*self.batch_size: (index+1)*self.batch_size]\n",
    "\n",
    "        # select data and load images\n",
    "        imgs_lbls = []\n",
    "        for i in indices:\n",
    "            img_lbl = np.load(self.image_paths[i])\n",
    "            # img_lbl = np.moveaxis(img_lbl, 0, -1)\n",
    "            imgs_lbls.append(img_lbl)\n",
    "\n",
    "        # preprocess and augment data\n",
    "        if self.augment:\n",
    "            img_lbls = self.augmentor(imgs_lbls)\n",
    "    \n",
    "        images = []\n",
    "        labels = []\n",
    "        for img_lbl in imgs_lbls:\n",
    "            if self.gan:\n",
    "                image = img_lbl[..., :12]\n",
    "                images.append(image)\n",
    "                label = img_lbl[..., 12:]\n",
    "                labels.append(label)\n",
    "            else:\n",
    "                image = img_lbl[:12, :, :]\n",
    "                image = np.moveaxis(image, 0, -1)\n",
    "                images.append(image)\n",
    "                label = img_lbl[12:, :, :]\n",
    "                label = np.moveaxis(label, 0, -1)\n",
    "                labels.append(label)\n",
    "        images = np.array(images, dtype=np.float32)\n",
    "        if self.normalize:\n",
    "            images = (images - self.minimum) / (self.maximum - self.minimum)\n",
    "        elif self.gan:\n",
    "            images = (images + 1) / 2\n",
    "        return images, np.array(labels, dtype=np.float32)\n",
    "  \n",
    "    def augmentor(self, imgs_lbls):\n",
    "        k = np.random.randint(0, 4)\n",
    "        imgs_lbls = [np.rot90(img_lbl, axes=(0, 1), k=k) for img_lbl in imgs_lbls]\n",
    "\n",
    "        if np.random.randint(0, 2) == 0:\n",
    "            imgs_lbls = [np.fliplr(img_lbl) for img_lbl in imgs_lbls]\n",
    "        if np.random.randint(0, 2) == 0:\n",
    "            imgs_lbls = [np.flipud(img_lbl) for img_lbl in imgs_lbls]\n",
    "    \n",
    "\n",
    "        return imgs_lbls"
   ]
  },
  {
   "cell_type": "markdown",
   "id": "83b76b17-0221-4644-a2ff-dee45d41f72a",
   "metadata": {},
   "source": [
    "# importing models from keras_unet_collection"
   ]
  },
  {
   "cell_type": "code",
   "execution_count": 8,
   "id": "e93c069d-421c-411e-8c89-55d42ae3d099",
   "metadata": {},
   "outputs": [],
   "source": [
    "from keras_unet_collection.keras_unet_collection import models"
   ]
  },
  {
   "cell_type": "code",
   "execution_count": 22,
   "id": "325ba1f8-3bbf-457a-aaf3-56ffe59fb834",
   "metadata": {},
   "outputs": [],
   "source": [
    "d_model, model = models.unet_2d((256, 256, 12), [16, 32, 32, 64], n_labels=NUM_CLASSES,\n",
    "                      stack_num_down=2, stack_num_up=1,\n",
    "                      activation='GELU', output_activation='Softmax', \n",
    "                      batch_norm=True, pool='max', unpool='nearest', name='unet',\n",
    "                      is_domain_adaptation=False, da_type='conv2d', da_kernels=[32, 16])"
   ]
  },
  {
   "cell_type": "code",
   "execution_count": 23,
   "id": "5f89c1eb-30e1-4b37-9dc8-c51e9462ff5b",
   "metadata": {},
   "outputs": [
    {
     "name": "stdout",
     "output_type": "stream",
     "text": [
      "Model: \"unet_model\"\n",
      "__________________________________________________________________________________________________\n",
      "Layer (type)                    Output Shape         Param #     Connected to                     \n",
      "==================================================================================================\n",
      "input_2 (InputLayer)            [(None, 256, 256, 12 0                                            \n",
      "__________________________________________________________________________________________________\n",
      "unet_down0_0 (Conv2D)           (None, 256, 256, 16) 1728        input_2[0][0]                    \n",
      "__________________________________________________________________________________________________\n",
      "unet_down0_0_bn (BatchNormaliza (None, 256, 256, 16) 64          unet_down0_0[0][0]               \n",
      "__________________________________________________________________________________________________\n",
      "unet_down0_0_activation (GELU)  (None, 256, 256, 16) 0           unet_down0_0_bn[0][0]            \n",
      "__________________________________________________________________________________________________\n",
      "unet_down0_1 (Conv2D)           (None, 256, 256, 16) 2304        unet_down0_0_activation[0][0]    \n",
      "__________________________________________________________________________________________________\n",
      "unet_down0_1_bn (BatchNormaliza (None, 256, 256, 16) 64          unet_down0_1[0][0]               \n",
      "__________________________________________________________________________________________________\n",
      "unet_down0_1_activation (GELU)  (None, 256, 256, 16) 0           unet_down0_1_bn[0][0]            \n",
      "__________________________________________________________________________________________________\n",
      "unet_down1_encode_maxpool (MaxP (None, 128, 128, 16) 0           unet_down0_1_activation[0][0]    \n",
      "__________________________________________________________________________________________________\n",
      "unet_down1_conv_0 (Conv2D)      (None, 128, 128, 32) 4608        unet_down1_encode_maxpool[0][0]  \n",
      "__________________________________________________________________________________________________\n",
      "unet_down1_conv_0_bn (BatchNorm (None, 128, 128, 32) 128         unet_down1_conv_0[0][0]          \n",
      "__________________________________________________________________________________________________\n",
      "unet_down1_conv_0_activation (G (None, 128, 128, 32) 0           unet_down1_conv_0_bn[0][0]       \n",
      "__________________________________________________________________________________________________\n",
      "unet_down1_conv_1 (Conv2D)      (None, 128, 128, 32) 9216        unet_down1_conv_0_activation[0][0\n",
      "__________________________________________________________________________________________________\n",
      "unet_down1_conv_1_bn (BatchNorm (None, 128, 128, 32) 128         unet_down1_conv_1[0][0]          \n",
      "__________________________________________________________________________________________________\n",
      "unet_down1_conv_1_activation (G (None, 128, 128, 32) 0           unet_down1_conv_1_bn[0][0]       \n",
      "__________________________________________________________________________________________________\n",
      "unet_down2_encode_maxpool (MaxP (None, 64, 64, 32)   0           unet_down1_conv_1_activation[0][0\n",
      "__________________________________________________________________________________________________\n",
      "unet_down2_conv_0 (Conv2D)      (None, 64, 64, 32)   9216        unet_down2_encode_maxpool[0][0]  \n",
      "__________________________________________________________________________________________________\n",
      "unet_down2_conv_0_bn (BatchNorm (None, 64, 64, 32)   128         unet_down2_conv_0[0][0]          \n",
      "__________________________________________________________________________________________________\n",
      "unet_down2_conv_0_activation (G (None, 64, 64, 32)   0           unet_down2_conv_0_bn[0][0]       \n",
      "__________________________________________________________________________________________________\n",
      "unet_down2_conv_1 (Conv2D)      (None, 64, 64, 32)   9216        unet_down2_conv_0_activation[0][0\n",
      "__________________________________________________________________________________________________\n",
      "unet_down2_conv_1_bn (BatchNorm (None, 64, 64, 32)   128         unet_down2_conv_1[0][0]          \n",
      "__________________________________________________________________________________________________\n",
      "unet_down2_conv_1_activation (G (None, 64, 64, 32)   0           unet_down2_conv_1_bn[0][0]       \n",
      "__________________________________________________________________________________________________\n",
      "unet_down3_encode_maxpool (MaxP (None, 32, 32, 32)   0           unet_down2_conv_1_activation[0][0\n",
      "__________________________________________________________________________________________________\n",
      "unet_down3_conv_0 (Conv2D)      (None, 32, 32, 64)   18432       unet_down3_encode_maxpool[0][0]  \n",
      "__________________________________________________________________________________________________\n",
      "unet_down3_conv_0_bn (BatchNorm (None, 32, 32, 64)   256         unet_down3_conv_0[0][0]          \n",
      "__________________________________________________________________________________________________\n",
      "unet_down3_conv_0_activation (G (None, 32, 32, 64)   0           unet_down3_conv_0_bn[0][0]       \n",
      "__________________________________________________________________________________________________\n",
      "unet_down3_conv_1 (Conv2D)      (None, 32, 32, 64)   36864       unet_down3_conv_0_activation[0][0\n",
      "__________________________________________________________________________________________________\n",
      "unet_down3_conv_1_bn (BatchNorm (None, 32, 32, 64)   256         unet_down3_conv_1[0][0]          \n",
      "__________________________________________________________________________________________________\n",
      "unet_down3_conv_1_activation (G (None, 32, 32, 64)   0           unet_down3_conv_1_bn[0][0]       \n",
      "__________________________________________________________________________________________________\n",
      "unet_up0_decode_unpool (UpSampl (None, 64, 64, 64)   0           unet_down3_conv_1_activation[0][0\n",
      "__________________________________________________________________________________________________\n",
      "unet_up0_conv_before_concat_0 ( (None, 64, 64, 32)   18432       unet_up0_decode_unpool[0][0]     \n",
      "__________________________________________________________________________________________________\n",
      "unet_up0_conv_before_concat_0_b (None, 64, 64, 32)   128         unet_up0_conv_before_concat_0[0][\n",
      "__________________________________________________________________________________________________\n",
      "unet_up0_conv_before_concat_0_a (None, 64, 64, 32)   0           unet_up0_conv_before_concat_0_bn[\n",
      "__________________________________________________________________________________________________\n",
      "unet_up0_concat (Concatenate)   (None, 64, 64, 64)   0           unet_up0_conv_before_concat_0_act\n",
      "                                                                 unet_down2_conv_1_activation[0][0\n",
      "__________________________________________________________________________________________________\n",
      "unet_up0_conv_after_concat_0 (C (None, 64, 64, 32)   18432       unet_up0_concat[0][0]            \n",
      "__________________________________________________________________________________________________\n",
      "unet_up0_conv_after_concat_0_bn (None, 64, 64, 32)   128         unet_up0_conv_after_concat_0[0][0\n",
      "__________________________________________________________________________________________________\n",
      "unet_up0_conv_after_concat_0_ac (None, 64, 64, 32)   0           unet_up0_conv_after_concat_0_bn[0\n",
      "__________________________________________________________________________________________________\n",
      "unet_up1_decode_unpool (UpSampl (None, 128, 128, 32) 0           unet_up0_conv_after_concat_0_acti\n",
      "__________________________________________________________________________________________________\n",
      "unet_up1_conv_before_concat_0 ( (None, 128, 128, 32) 9216        unet_up1_decode_unpool[0][0]     \n",
      "__________________________________________________________________________________________________\n",
      "unet_up1_conv_before_concat_0_b (None, 128, 128, 32) 128         unet_up1_conv_before_concat_0[0][\n",
      "__________________________________________________________________________________________________\n",
      "unet_up1_conv_before_concat_0_a (None, 128, 128, 32) 0           unet_up1_conv_before_concat_0_bn[\n",
      "__________________________________________________________________________________________________\n",
      "unet_up1_concat (Concatenate)   (None, 128, 128, 64) 0           unet_up1_conv_before_concat_0_act\n",
      "                                                                 unet_down1_conv_1_activation[0][0\n",
      "__________________________________________________________________________________________________\n",
      "unet_up1_conv_after_concat_0 (C (None, 128, 128, 32) 18432       unet_up1_concat[0][0]            \n",
      "__________________________________________________________________________________________________\n",
      "unet_up1_conv_after_concat_0_bn (None, 128, 128, 32) 128         unet_up1_conv_after_concat_0[0][0\n",
      "__________________________________________________________________________________________________\n",
      "unet_up1_conv_after_concat_0_ac (None, 128, 128, 32) 0           unet_up1_conv_after_concat_0_bn[0\n",
      "__________________________________________________________________________________________________\n",
      "unet_up2_decode_unpool (UpSampl (None, 256, 256, 32) 0           unet_up1_conv_after_concat_0_acti\n",
      "__________________________________________________________________________________________________\n",
      "unet_up2_conv_before_concat_0 ( (None, 256, 256, 16) 4608        unet_up2_decode_unpool[0][0]     \n",
      "__________________________________________________________________________________________________\n",
      "unet_up2_conv_before_concat_0_b (None, 256, 256, 16) 64          unet_up2_conv_before_concat_0[0][\n",
      "__________________________________________________________________________________________________\n",
      "unet_up2_conv_before_concat_0_a (None, 256, 256, 16) 0           unet_up2_conv_before_concat_0_bn[\n",
      "__________________________________________________________________________________________________\n",
      "unet_up2_concat (Concatenate)   (None, 256, 256, 32) 0           unet_up2_conv_before_concat_0_act\n",
      "                                                                 unet_down0_1_activation[0][0]    \n",
      "__________________________________________________________________________________________________\n",
      "unet_up2_conv_after_concat_0 (C (None, 256, 256, 16) 4608        unet_up2_concat[0][0]            \n",
      "__________________________________________________________________________________________________\n",
      "unet_up2_conv_after_concat_0_bn (None, 256, 256, 16) 64          unet_up2_conv_after_concat_0[0][0\n",
      "__________________________________________________________________________________________________\n",
      "unet_up2_conv_after_concat_0_ac (None, 256, 256, 16) 0           unet_up2_conv_after_concat_0_bn[0\n",
      "__________________________________________________________________________________________________\n",
      "unet_output (Conv2D)            (None, 256, 256, 4)  68          unet_up2_conv_after_concat_0_acti\n",
      "__________________________________________________________________________________________________\n",
      "unet_output_activation (Softmax (None, 256, 256, 4)  0           unet_output[0][0]                \n",
      "==================================================================================================\n",
      "Total params: 167,172\n",
      "Trainable params: 166,276\n",
      "Non-trainable params: 896\n",
      "__________________________________________________________________________________________________\n"
     ]
    }
   ],
   "source": [
    "model.summary()"
   ]
  },
  {
   "cell_type": "code",
   "execution_count": 24,
   "id": "b37cc9a9-1256-4fc0-8b3d-f6800bcbbcd0",
   "metadata": {},
   "outputs": [],
   "source": [
    "maximum, minimum = 14.733826, -49.208305\n",
    "\n",
    "train_gen = DataGenerator(image_paths=train_files, batch_size=BATCH_SIZE,  augment=True, \n",
    "                          shuffle=True, normalize=False, gan=True, maximum=maximum, minimum=minimum)\n",
    "val_gen = DataGenerator(image_paths=val_files, batch_size=BATCH_SIZE, augment=False, shuffle=False,\n",
    "                        normalize=False, gan=True, maximum=maximum, minimum=minimum)\n",
    "test_gen = DataGenerator(image_paths=test_files, batch_size=BATCH_SIZE, augment=False, shuffle=False,\n",
    "                         normalize=False, gan=True, maximum=maximum, minimum=minimum)\n",
    "\n",
    "tar_gen = DataGenerator(image_paths=tar_files, batch_size=BATCH_SIZE, augment=False, shuffle=False,\n",
    "                         normalize=True, maximum=maximum, minimum=minimum)\n",
    "\n"
   ]
  },
  {
   "cell_type": "code",
   "execution_count": 25,
   "id": "6a54b496-6d5c-4246-b749-629c8aa9f438",
   "metadata": {},
   "outputs": [
    {
     "data": {
      "text/plain": [
       "((8, 256, 256, 12),\n",
       " (8, 256, 256, 4),\n",
       " (8, 256, 256, 12),\n",
       " (8, 256, 256, 4),\n",
       " 0.00032889843,\n",
       " 0.95284176)"
      ]
     },
     "execution_count": 25,
     "metadata": {},
     "output_type": "execute_result"
    }
   ],
   "source": [
    "x, y = train_gen[10]\n",
    "xx, yy = tar_gen[0]\n",
    "x.shape, y.shape, xx.shape, yy.shape, x.min(), x.max()"
   ]
  },
  {
   "cell_type": "code",
   "execution_count": 26,
   "id": "92498e48-6a25-4ad6-b655-4874684634ca",
   "metadata": {},
   "outputs": [],
   "source": [
    "def weightedLoss(originalLossFunc, weightsList):\n",
    "\n",
    "    def lossFunc(true, pred):\n",
    "\n",
    "        axis = -1 #if channels last \n",
    "        #axis=  1 #if channels first\n",
    "\n",
    "\n",
    "        #argmax returns the index of the element with the greatest value\n",
    "        #done in the class axis, it returns the class index    \n",
    "        classSelectors = K.argmax(true, axis=axis) \n",
    "            #if your loss is sparse, use only true as classSelectors\n",
    "\n",
    "        #considering weights are ordered by class, for each class\n",
    "        #true(1) if the class index is equal to the weight index   \n",
    "        classSelectors = [K.equal(i, classSelectors) for i in np.arange(len(weightsList), dtype='int64')]\n",
    "\n",
    "        #casting boolean to float for calculations  \n",
    "        #each tensor in the list contains 1 where ground true class is equal to its index \n",
    "        #if you sum all these, you will get a tensor full of ones. \n",
    "        classSelectors = [K.cast(x, K.floatx()) for x in classSelectors]\n",
    "\n",
    "        #for each of the selections above, multiply their respective weight\n",
    "        weights = [sel * w for sel,w in zip(classSelectors, weightsList)] \n",
    "\n",
    "        #sums all the selections\n",
    "        #result is a tensor with the respective weight for each element in predictions\n",
    "        weightMultiplier = weights[0]\n",
    "        for i in range(1, len(weights)):\n",
    "            weightMultiplier = weightMultiplier + weights[i]\n",
    "\n",
    "\n",
    "        #make sure your originalLossFunc only collapses the class axis\n",
    "        #you need the other axes intact to multiply the weights tensor\n",
    "        loss = originalLossFunc(true,pred) \n",
    "        loss = loss * weightMultiplier\n",
    "\n",
    "        return loss\n",
    "    return lossFunc"
   ]
  },
  {
   "cell_type": "code",
   "execution_count": 27,
   "id": "f44ae2f8-e743-4edf-9641-13ae1d07c7ec",
   "metadata": {},
   "outputs": [
    {
     "name": "stdout",
     "output_type": "stream",
     "text": [
      "Weight for class 0: 0.72\n",
      "Weight for class 1: 67.41\n",
      "Weight for class 2: 352.12\n",
      "Weight for class 3: 1.71\n"
     ]
    }
   ],
   "source": [
    "other = 17749814 + 17766350 + 22149798\n",
    "corn = 204516 + 172453 + 235173\n",
    "cotton = 88734 + 26780 + 1677\n",
    "rice = 10122026 + 6884977 + 7128782\n",
    "total = other + corn + cotton + rice \n",
    "\n",
    "# Scaling by total/2 helps keep the loss to a similar magnitude.\n",
    "# The sum of the weights of all examples stays the same.\n",
    "weight_for_other = (1 / other) * (total / 2.0)\n",
    "weight_for_corn = (1 / corn) * (total / 2.0)\n",
    "weight_for_cotton = (1 / cotton) * (total / 2.0)\n",
    "weight_for_rice = (1 / rice) * (total / 2.0)\n",
    "\n",
    "class_weight = {0: weight_for_other, 1: weight_for_corn, 2: weight_for_cotton, 3: weight_for_rice}\n",
    "\n",
    "print('Weight for class 0: {:.2f}'.format(weight_for_other))\n",
    "print('Weight for class 1: {:.2f}'.format(weight_for_corn))\n",
    "print('Weight for class 2: {:.2f}'.format(weight_for_cotton))\n",
    "print('Weight for class 3: {:.2f}'.format(weight_for_rice))\n",
    "\n",
    "weights = [weight_for_other, weight_for_corn, weight_for_cotton, weight_for_rice]"
   ]
  },
  {
   "cell_type": "code",
   "execution_count": 28,
   "id": "962a7333-abd0-4ed0-819f-a7a8cf1f6262",
   "metadata": {},
   "outputs": [],
   "source": [
    "lr_schedule = keras.optimizers.schedules.ExponentialDecay(\n",
    "    initial_learning_rate=1e-8,\n",
    "    decay_steps=2000,\n",
    "    decay_rate=0.9)\n",
    "optimizer1 = keras.optimizers.Adam(learning_rate=lr_schedule)"
   ]
  },
  {
   "cell_type": "code",
   "execution_count": 29,
   "id": "2e36d5d2-4d0a-4e11-ac7c-c00744aa8c04",
   "metadata": {},
   "outputs": [],
   "source": [
    "model.compile(optimizer=optimizer1, \n",
    "              loss=weightedLoss(keras.losses.categorical_crossentropy, weights),\n",
    "              metrics=['accuracy'])"
   ]
  },
  {
   "cell_type": "code",
   "execution_count": 30,
   "id": "700e7f5f-0a15-4eec-bad0-ac6ecfcff39a",
   "metadata": {},
   "outputs": [],
   "source": [
    "checkpoint_filepath = 'CycUnetCheckpoint/checkpoint'\n",
    "model_checkpoint_callback = tf.keras.callbacks.ModelCheckpoint(\n",
    "    filepath=checkpoint_filepath,\n",
    "    save_weights_only=True,\n",
    "    monitor='val_loss',\n",
    "    mode='min',\n",
    "    save_best_only=True)"
   ]
  },
  {
   "cell_type": "code",
   "execution_count": 31,
   "id": "4b4e3990-53e4-466f-a6dd-f47bf0b3ea7b",
   "metadata": {},
   "outputs": [
    {
     "data": {
      "text/plain": [
       "<tensorflow.python.training.tracking.util.CheckpointLoadStatus at 0x7f7108253430>"
      ]
     },
     "execution_count": 31,
     "metadata": {},
     "output_type": "execute_result"
    }
   ],
   "source": [
    "model.load_weights('UnetCheckpoint/checkpoint')"
   ]
  },
  {
   "cell_type": "code",
   "execution_count": 32,
   "id": "c9664540-00af-4a20-91e4-8cd7454b18eb",
   "metadata": {},
   "outputs": [],
   "source": [
    "# contract = keras.Sequential(layers[:18])\n",
    "# contract.trainable = False\n",
    "# x = contract(inputs, training=False)\n",
    "\n",
    "# for i in range(18, len(layers)):\n",
    "#     x = layers[i](x)\n",
    "\n",
    "# model = keras.Model(inputs, x)\n",
    "# model.summary()"
   ]
  },
  {
   "cell_type": "code",
   "execution_count": 33,
   "id": "ff384a31-b547-4fb5-9cb3-ac49f95e43f4",
   "metadata": {},
   "outputs": [
    {
     "name": "stderr",
     "output_type": "stream",
     "text": [
      "2021-11-20 08:52:22.926955: I tensorflow/compiler/mlir/mlir_graph_optimization_pass.cc:116] None of the MLIR optimization passes are enabled (registered 2)\n",
      "2021-11-20 08:52:22.945896: I tensorflow/core/platform/profile_utils/cpu_utils.cc:112] CPU Frequency: 2599990000 Hz\n"
     ]
    },
    {
     "name": "stdout",
     "output_type": "stream",
     "text": [
      "Epoch 1/20\n",
      "WARNING:tensorflow:AutoGraph could not transform <function weightedLoss.<locals>.lossFunc at 0x7f707c07d700> and will run it as-is.\n",
      "Please report this to the TensorFlow team. When filing the bug, set the verbosity to 10 (on Linux, `export AUTOGRAPH_VERBOSITY=10`) and attach the full output.\n",
      "Cause: module 'gast' has no attribute 'Index'\n",
      "To silence this warning, decorate the function with @tf.autograph.experimental.do_not_convert\n",
      "WARNING: AutoGraph could not transform <function weightedLoss.<locals>.lossFunc at 0x7f707c07d700> and will run it as-is.\n",
      "Please report this to the TensorFlow team. When filing the bug, set the verbosity to 10 (on Linux, `export AUTOGRAPH_VERBOSITY=10`) and attach the full output.\n",
      "Cause: module 'gast' has no attribute 'Index'\n",
      "To silence this warning, decorate the function with @tf.autograph.experimental.do_not_convert\n"
     ]
    },
    {
     "name": "stderr",
     "output_type": "stream",
     "text": [
      "2021-11-20 08:52:24.831238: I tensorflow/stream_executor/platform/default/dso_loader.cc:49] Successfully opened dynamic library libcudnn.so.7\n",
      "2021-11-20 08:52:25.741128: W tensorflow/stream_executor/gpu/asm_compiler.cc:63] Running ptxas --version returned 256\n",
      "2021-11-20 08:52:25.800163: W tensorflow/stream_executor/gpu/redzone_allocator.cc:314] Internal: ptxas exited with non-zero error code 256, output: \n",
      "Relying on driver to perform ptx compilation. \n",
      "Modify $PATH to customize ptxas location.\n",
      "This message will be only logged once.\n",
      "2021-11-20 08:52:26.449780: I tensorflow/stream_executor/platform/default/dso_loader.cc:49] Successfully opened dynamic library libcublas.so.10\n"
     ]
    },
    {
     "name": "stdout",
     "output_type": "stream",
     "text": [
      "120/120 [==============================] - 39s 112ms/step - loss: 4.4564 - accuracy: 0.7961 - val_loss: 2.4499 - val_accuracy: 0.8084\n",
      "Epoch 2/20\n",
      "120/120 [==============================] - 13s 105ms/step - loss: 4.5075 - accuracy: 0.7881 - val_loss: 2.3675 - val_accuracy: 0.8118\n",
      "Epoch 3/20\n",
      "120/120 [==============================] - 13s 106ms/step - loss: 4.7828 - accuracy: 0.7909 - val_loss: 2.3570 - val_accuracy: 0.8126\n",
      "Epoch 4/20\n",
      "120/120 [==============================] - 12s 104ms/step - loss: 3.9236 - accuracy: 0.7921 - val_loss: 2.3596 - val_accuracy: 0.8122\n",
      "Epoch 5/20\n",
      "120/120 [==============================] - 12s 103ms/step - loss: 4.2645 - accuracy: 0.7896 - val_loss: 2.3533 - val_accuracy: 0.8117\n",
      "Epoch 6/20\n",
      "120/120 [==============================] - 12s 104ms/step - loss: 5.2605 - accuracy: 0.7895 - val_loss: 2.3676 - val_accuracy: 0.8122\n",
      "Epoch 7/20\n",
      "120/120 [==============================] - 12s 104ms/step - loss: 4.1404 - accuracy: 0.7951 - val_loss: 2.3525 - val_accuracy: 0.8128\n",
      "Epoch 8/20\n",
      "120/120 [==============================] - 13s 106ms/step - loss: 5.8995 - accuracy: 0.7892 - val_loss: 2.3573 - val_accuracy: 0.8130\n",
      "Epoch 9/20\n",
      "120/120 [==============================] - 13s 106ms/step - loss: 5.4107 - accuracy: 0.7892 - val_loss: 2.3457 - val_accuracy: 0.8129\n",
      "Epoch 10/20\n",
      "120/120 [==============================] - 13s 107ms/step - loss: 3.0349 - accuracy: 0.7923 - val_loss: 2.3565 - val_accuracy: 0.8130\n",
      "Epoch 11/20\n",
      "120/120 [==============================] - 13s 106ms/step - loss: 4.7640 - accuracy: 0.7919 - val_loss: 2.3621 - val_accuracy: 0.8131\n",
      "Epoch 12/20\n",
      "120/120 [==============================] - 13s 106ms/step - loss: 6.0692 - accuracy: 0.7950 - val_loss: 2.3613 - val_accuracy: 0.8117\n",
      "Epoch 13/20\n",
      "120/120 [==============================] - 13s 106ms/step - loss: 6.3691 - accuracy: 0.7813 - val_loss: 2.3622 - val_accuracy: 0.8121\n",
      "Epoch 14/20\n",
      "120/120 [==============================] - 13s 106ms/step - loss: 3.4208 - accuracy: 0.7947 - val_loss: 2.3488 - val_accuracy: 0.8130\n",
      "Epoch 15/20\n",
      "120/120 [==============================] - 13s 106ms/step - loss: 4.0778 - accuracy: 0.7911 - val_loss: 2.3569 - val_accuracy: 0.8121\n",
      "Epoch 16/20\n",
      "120/120 [==============================] - 13s 106ms/step - loss: 3.5797 - accuracy: 0.7840 - val_loss: 2.3571 - val_accuracy: 0.8122\n",
      "Epoch 17/20\n",
      "120/120 [==============================] - 13s 106ms/step - loss: 3.2680 - accuracy: 0.7861 - val_loss: 2.3498 - val_accuracy: 0.8118\n",
      "Epoch 18/20\n",
      "120/120 [==============================] - 13s 106ms/step - loss: 5.4556 - accuracy: 0.7929 - val_loss: 2.3482 - val_accuracy: 0.8124\n",
      "Epoch 19/20\n",
      "120/120 [==============================] - 13s 106ms/step - loss: 5.1897 - accuracy: 0.7933 - val_loss: 2.3468 - val_accuracy: 0.8125\n",
      "Epoch 20/20\n",
      "120/120 [==============================] - 13s 106ms/step - loss: 7.2358 - accuracy: 0.7933 - val_loss: 2.3412 - val_accuracy: 0.8131\n"
     ]
    },
    {
     "data": {
      "text/plain": [
       "<tensorflow.python.keras.callbacks.History at 0x7f707c0a77c0>"
      ]
     },
     "execution_count": 33,
     "metadata": {},
     "output_type": "execute_result"
    }
   ],
   "source": [
    "model.fit(train_gen, epochs=20, validation_data=val_gen, callbacks=[model_checkpoint_callback])"
   ]
  },
  {
   "cell_type": "code",
   "execution_count": 37,
   "id": "52e322e6-c041-4039-aafa-08d2bd5e58de",
   "metadata": {},
   "outputs": [
    {
     "data": {
      "text/plain": [
       "(8, 256, 256, 12)"
      ]
     },
     "execution_count": 37,
     "metadata": {},
     "output_type": "execute_result"
    }
   ],
   "source": [
    "x.shape"
   ]
  },
  {
   "cell_type": "code",
   "execution_count": 34,
   "id": "1e77896a-43e6-477f-b2fd-2e1d6dda19e0",
   "metadata": {},
   "outputs": [],
   "source": [
    "from sklearn.metrics import ConfusionMatrixDisplay, confusion_matrix"
   ]
  },
  {
   "cell_type": "code",
   "execution_count": 35,
   "id": "15d45ae7-4f25-4225-a70e-21cd97494fcc",
   "metadata": {},
   "outputs": [],
   "source": [
    "def plot_confusion_matrix(gen):\n",
    "    preds = []\n",
    "    trains = []\n",
    "    for i, (image, label) in enumerate(gen):\n",
    "        pred = model.predict(image)\n",
    "        pred = np.argmax(pred, axis=-1)\n",
    "        # pred = np.where(pred > 0.5, 1, 0)\n",
    "        pred = pred.flatten()\n",
    "        preds.append(pred)\n",
    "        label = np.argmax(label, axis=-1)\n",
    "        label = label.flatten()\n",
    "        trains.append(label)\n",
    "\n",
    "    trains = np.concatenate(trains)\n",
    "    preds = np.concatenate(preds) \n",
    "\n",
    "    lin_preds = preds.flatten()\n",
    "\n",
    "    lin_trains = trains.flatten()\n",
    "    cm = confusion_matrix(lin_trains, lin_preds, normalize='true')\n",
    "    cm_display = ConfusionMatrixDisplay(cm, display_labels=['others', 'Corn', 'Cotton', 'rice']).plot(cmap=plt.cm.Blues)\n",
    "    plt.show()"
   ]
  },
  {
   "cell_type": "code",
   "execution_count": 36,
   "id": "4d19af79-d0fd-405f-8dd8-37905b01e157",
   "metadata": {},
   "outputs": [
    {
     "data": {
      "text/plain": [
       "<tensorflow.python.training.tracking.util.CheckpointLoadStatus at 0x7f704808feb0>"
      ]
     },
     "execution_count": 36,
     "metadata": {},
     "output_type": "execute_result"
    }
   ],
   "source": [
    "model.load_weights(checkpoint_filepath)"
   ]
  },
  {
   "cell_type": "code",
   "execution_count": 37,
   "id": "5826cac5-f432-4c23-af31-e541765df2f9",
   "metadata": {},
   "outputs": [
    {
     "data": {
      "image/png": "[encoded data removed]",
      "text/plain": [
       "<Figure size 432x288 with 2 Axes>"
      ]
     },
     "metadata": {
      "needs_background": "light"
     },
     "output_type": "display_data"
    }
   ],
   "source": [
    "plot_confusion_matrix(train_gen)"
   ]
  },
  {
   "cell_type": "code",
   "execution_count": 38,
   "id": "646c1f41-9a5b-444c-b628-0965db3bf92e",
   "metadata": {},
   "outputs": [
    {
     "data": {
      "image/png": "[encoded data removed]",
      "text/plain": [
       "<Figure size 432x288 with 2 Axes>"
      ]
     },
     "metadata": {
      "needs_background": "light"
     },
     "output_type": "display_data"
    }
   ],
   "source": [
    "plot_confusion_matrix(val_gen)"
   ]
  },
  {
   "cell_type": "code",
   "execution_count": 39,
   "id": "f7a12f56-b575-4aee-925c-94baee431244",
   "metadata": {},
   "outputs": [
    {
     "data": {
      "image/png": "[encoded data removed]",
      "text/plain": [
       "<Figure size 432x288 with 2 Axes>"
      ]
     },
     "metadata": {
      "needs_background": "light"
     },
     "output_type": "display_data"
    }
   ],
   "source": [
    "plot_confusion_matrix(test_gen)"
   ]
  },
  {
   "cell_type": "code",
   "execution_count": 40,
   "id": "07961435-418c-40c2-a4dd-88af3f8e8d58",
   "metadata": {},
   "outputs": [
    {
     "data": {
      "image/png": "[encoded data removed]",
      "text/plain": [
       "<Figure size 432x288 with 2 Axes>"
      ]
     },
     "metadata": {
      "needs_background": "light"
     },
     "output_type": "display_data"
    }
   ],
   "source": [
    "plot_confusion_matrix(tar_gen)"
   ]
  },
  {
   "cell_type": "code",
   "execution_count": 41,
   "id": "7361f8a7-ec7b-476f-b121-515d2af2d1f8",
   "metadata": {},
   "outputs": [],
   "source": [
    "def plot_cnf_matrix(gen):\n",
    "    # preds = np.zeros((len(gen), 65536, 1))\n",
    "    # trains = np.zeros((len(gen), 65536, 1))\n",
    "    preds = []\n",
    "    trains = []\n",
    "    for i, (image, label) in enumerate(gen):\n",
    "        pred = model.predict(image)\n",
    "        pred = np.argmax(pred, axis=-1)\n",
    "        # pred = np.where(pred > 0.5, 1, 0)\n",
    "        pred = pred.flatten()\n",
    "        preds.append(pred)\n",
    "        label = np.argmax(label, axis=-1)\n",
    "        label = label.flatten()\n",
    "        trains.append(label)\n",
    "\n",
    "    trains = np.concatenate(trains)\n",
    "    preds = np.concatenate(preds) \n",
    "\n",
    "    lin_preds = preds.flatten()\n",
    "\n",
    "    lin_trains = trains.flatten()\n",
    "    \n",
    "    cm = tf.math.confusion_matrix(lin_trains, lin_preds)\n",
    "#     cms = cm/cm.numpy().sum(axis=1)[:, tf.newaxis]\n",
    "    \n",
    "    # Get confusion matrix\n",
    "#     cm = tf.confusion_matrix(tf.reshape(y_true, [-1]),\n",
    "#                              tf.reshape(y_pred, [-1]))\n",
    "    \n",
    "    # Get precisions\n",
    "    TP = tf.linalg.diag_part(cm)\n",
    "    precisions = TP / tf.reduce_sum(cm, axis=0)\n",
    "    \n",
    "    # Get recalls\n",
    "    TP = tf.linalg.diag_part(cm)\n",
    "    recalls = TP / tf.reduce_sum(cm, axis=1)\n",
    "    \n",
    "    # Get F1s\n",
    "    f1s = (2 * precisions * recalls) / (precisions + recalls)\n",
    "    \n",
    "    sns.heatmap(\n",
    "        cm, annot=True,\n",
    "        xticklabels=[0, 1],\n",
    "        yticklabels=[0, 1])\n",
    "    plt.xlabel(\"True\")\n",
    "    plt.ylabel(\"Predicted\")\n",
    "    \n",
    "    plt.show()\n",
    "    \n",
    "#     return np.mean(f1s[1:])\n",
    "    m = tf.keras.metrics.MeanIoU(num_classes=4)\n",
    "    m.update_state(lin_trains, lin_preds)\n",
    "    print(m.result().numpy())\n",
    "    print(np.mean(f1s))"
   ]
  },
  {
   "cell_type": "code",
   "execution_count": 42,
   "id": "17d82b06-b9b2-479b-b1fc-e1edadb8d054",
   "metadata": {},
   "outputs": [
    {
     "name": "stderr",
     "output_type": "stream",
     "text": [
      "2021-11-20 08:58:32.551961: W tensorflow/core/framework/cpu_allocator_impl.cc:80] Allocation of 1006632960 exceeds 10% of free system memory.\n"
     ]
    },
    {
     "data": {
      "image/png": "[encoded data removed]",
      "text/plain": [
       "<Figure size 432x288 with 2 Axes>"
      ]
     },
     "metadata": {
      "needs_background": "light"
     },
     "output_type": "display_data"
    },
    {
     "name": "stdout",
     "output_type": "stream",
     "text": [
      "0.35739335\n",
      "0.4287445428074623\n"
     ]
    }
   ],
   "source": [
    "plot_cnf_matrix(train_gen)"
   ]
  },
  {
   "cell_type": "code",
   "execution_count": 43,
   "id": "4d0b3448-eae9-49fc-8c63-dae4a8b5e157",
   "metadata": {},
   "outputs": [
    {
     "data": {
      "image/png": "[encoded data removed]",
      "text/plain": [
       "<Figure size 432x288 with 2 Axes>"
      ]
     },
     "metadata": {
      "needs_background": "light"
     },
     "output_type": "display_data"
    },
    {
     "name": "stdout",
     "output_type": "stream",
     "text": [
      "0.3598709\n",
      "0.43337156602497506\n"
     ]
    }
   ],
   "source": [
    "plot_cnf_matrix(val_gen)"
   ]
  },
  {
   "cell_type": "code",
   "execution_count": 44,
   "id": "8bb367d9-5ef3-4182-9363-9f48233e74ed",
   "metadata": {},
   "outputs": [
    {
     "data": {
      "image/png": "[encoded data removed]",
      "text/plain": [
       "<Figure size 432x288 with 2 Axes>"
      ]
     },
     "metadata": {
      "needs_background": "light"
     },
     "output_type": "display_data"
    },
    {
     "name": "stdout",
     "output_type": "stream",
     "text": [
      "0.37255433\n",
      "0.45024943691414826\n"
     ]
    }
   ],
   "source": [
    "plot_cnf_matrix(test_gen)"
   ]
  },
  {
   "cell_type": "code",
   "execution_count": 45,
   "id": "7002c5a6-4eb6-4204-a055-da409053eea4",
   "metadata": {},
   "outputs": [
    {
     "data": {
      "image/png": "[encoded data removed]",
      "text/plain": [
       "<Figure size 432x288 with 2 Axes>"
      ]
     },
     "metadata": {
      "needs_background": "light"
     },
     "output_type": "display_data"
    },
    {
     "name": "stdout",
     "output_type": "stream",
     "text": [
      "0.34884438\n",
      "0.453017485241791\n"
     ]
    }
   ],
   "source": [
    "plot_cnf_matrix(tar_gen)"
   ]
  },
  {
   "cell_type": "code",
   "execution_count": 46,
   "id": "0a27db85-be7b-40cb-97e8-880af55878d2",
   "metadata": {},
   "outputs": [
    {
     "data": {
      "text/plain": [
       "'unet_down3_conv_1_activation'"
      ]
     },
     "execution_count": 46,
     "metadata": {},
     "output_type": "execute_result"
    }
   ],
   "source": [
    "model.layers[27].name"
   ]
  },
  {
   "cell_type": "code",
   "execution_count": 47,
   "id": "1e004a0f-fae8-4596-9c11-6c93d5c280ce",
   "metadata": {},
   "outputs": [],
   "source": [
    "from tensorflow.keras.models import Model"
   ]
  },
  {
   "cell_type": "code",
   "execution_count": 48,
   "id": "bd45a9f2-26ad-4808-808a-1d20847fee95",
   "metadata": {},
   "outputs": [],
   "source": [
    "maximum, minimum = 14.733826, -49.208305\n",
    "\n",
    "test_gen = DataGenerator(image_paths=test_files, batch_size=100, augment=False, shuffle=False,\n",
    "                         normalize=False, gan=True, maximum=maximum, minimum=minimum)\n",
    "\n",
    "tar_gen = DataGenerator(image_paths=tar_files, batch_size=100, augment=False, shuffle=False,\n",
    "                         normalize=True, maximum=maximum, minimum=minimum)\n",
    "\n"
   ]
  },
  {
   "cell_type": "code",
   "execution_count": 49,
   "id": "f37b34ee-19c7-411f-9ca4-14c33105975c",
   "metadata": {},
   "outputs": [],
   "source": [
    "# Testing\n",
    "mid_model = Model(inputs=[model.input], outputs=[model.layers[27].output])"
   ]
  },
  {
   "cell_type": "code",
   "execution_count": 50,
   "id": "a51da635-afa9-481d-927d-01882ffc0582",
   "metadata": {},
   "outputs": [
    {
     "name": "stdout",
     "output_type": "stream",
     "text": [
      "(100, 256, 256, 12) (100, 256, 256, 12)\n",
      "(200, 256, 256, 12)\n"
     ]
    }
   ],
   "source": [
    "x_test, _ = test_gen[0]\n",
    "x_tar, _ = tar_gen[0]\n",
    "print(x_test.shape, x_tar.shape)\n",
    "x = np.vstack((x_test, x_tar))\n",
    "print(x.shape)"
   ]
  },
  {
   "cell_type": "code",
   "execution_count": 51,
   "id": "7c04ef5a-6cef-4f29-97db-91bd5c39c7bb",
   "metadata": {},
   "outputs": [
    {
     "name": "stdout",
     "output_type": "stream",
     "text": [
      "(200, 32, 32, 64)\n"
     ]
    }
   ],
   "source": [
    "features = mid_model.predict(x)\n",
    "print(features.shape)"
   ]
  },
  {
   "cell_type": "code",
   "execution_count": 52,
   "id": "fb9bef6b-b746-4329-96dd-35a0a1d3be08",
   "metadata": {},
   "outputs": [],
   "source": [
    "from sklearn.decomposition import PCA\n",
    "from sklearn.manifold import TSNE"
   ]
  },
  {
   "cell_type": "code",
   "execution_count": 53,
   "id": "12d6a76d-8ce9-4e39-a8e2-9f5b0e576e7e",
   "metadata": {},
   "outputs": [
    {
     "data": {
      "text/plain": [
       "(200, 65536)"
      ]
     },
     "execution_count": 53,
     "metadata": {},
     "output_type": "execute_result"
    }
   ],
   "source": [
    "features = features.reshape(x.shape[0], -1)\n",
    "features.shape"
   ]
  },
  {
   "cell_type": "code",
   "execution_count": 54,
   "id": "27154952-0a24-4d0c-b3b6-a3f8f4b1249c",
   "metadata": {},
   "outputs": [],
   "source": [
    "pca = PCA(n_components=20)\n",
    "pca_result = pca.fit_transform(features)"
   ]
  },
  {
   "cell_type": "code",
   "execution_count": 55,
   "id": "855c0662-4a7d-49ca-ba74-0c598db07471",
   "metadata": {},
   "outputs": [
    {
     "name": "stderr",
     "output_type": "stream",
     "text": [
      "/home/qc/anaconda3/envs/tf-gpu/lib/python3.9/site-packages/sklearn/manifold/_t_sne.py:780: FutureWarning: The default initialization in TSNE will change from 'random' to 'pca' in 1.2.\n",
      "  warnings.warn(\n",
      "/home/qc/anaconda3/envs/tf-gpu/lib/python3.9/site-packages/sklearn/manifold/_t_sne.py:790: FutureWarning: The default learning rate in TSNE will change from 200.0 to 'auto' in 1.2.\n",
      "  warnings.warn(\n"
     ]
    },
    {
     "name": "stdout",
     "output_type": "stream",
     "text": [
      "[t-SNE] Computing 91 nearest neighbors...\n",
      "[t-SNE] Indexed 200 samples in 0.000s...\n",
      "[t-SNE] Computed neighbors for 200 samples in 0.005s...\n",
      "[t-SNE] Computed conditional probabilities for sample 200 / 200\n",
      "[t-SNE] Mean sigma: 38.635114\n",
      "[t-SNE] KL divergence after 250 iterations with early exaggeration: 59.699280\n",
      "[t-SNE] KL divergence after 1000 iterations: 0.571087\n"
     ]
    }
   ],
   "source": [
    "tsne = TSNE(n_components=2, verbose = 1)\n",
    "tsne_results = tsne.fit_transform(pca_result)"
   ]
  },
  {
   "cell_type": "code",
   "execution_count": 56,
   "id": "cf359035-381c-4b4d-88e0-09908be6b949",
   "metadata": {},
   "outputs": [],
   "source": [
    "import matplotlib.pyplot as plt\n",
    "%matplotlib inline"
   ]
  },
  {
   "cell_type": "code",
   "execution_count": 57,
   "id": "8343c418-5bbf-40a5-9f1a-724b2c52c7bc",
   "metadata": {},
   "outputs": [
    {
     "data": {
      "text/plain": [
       "(200,)"
      ]
     },
     "execution_count": 57,
     "metadata": {},
     "output_type": "execute_result"
    }
   ],
   "source": [
    "color_map = np.concatenate((np.ones(features.shape[0]//2), np.zeros(features.shape[0]//2)))\n",
    "color_map.shape"
   ]
  },
  {
   "cell_type": "code",
   "execution_count": 58,
   "id": "93f49203-d494-4c67-9116-d7ab162ce21c",
   "metadata": {},
   "outputs": [
    {
     "data": {
      "text/plain": [
       "(200, 2)"
      ]
     },
     "execution_count": 58,
     "metadata": {},
     "output_type": "execute_result"
    }
   ],
   "source": [
    "tsne_results.shape"
   ]
  },
  {
   "cell_type": "code",
   "execution_count": 62,
   "id": "12792f87-4e4a-4d36-8b21-cab1d7e255ec",
   "metadata": {},
   "outputs": [
    {
     "data": {
      "text/plain": [
       "<AxesSubplot:>"
      ]
     },
     "execution_count": 62,
     "metadata": {},
     "output_type": "execute_result"
    },
    {
     "data": {
      "image/png": "[encoded data removed]",
      "text/plain": [
       "<Figure size 842.4x595.44 with 1 Axes>"
      ]
     },
     "metadata": {},
     "output_type": "display_data"
    },
    {
     "name": "stdout",
     "output_type": "stream",
     "text": [
      "WARNING:tensorflow:Unresolved object in checkpoint: (root).layer-40\n",
      "WARNING:tensorflow:Unresolved object in checkpoint: (root).layer_with_weights-22\n",
      "WARNING:tensorflow:Unresolved object in checkpoint: (root).layer_with_weights-23\n",
      "WARNING:tensorflow:Unresolved object in checkpoint: (root).layer-43\n",
      "WARNING:tensorflow:Unresolved object in checkpoint: (root).layer-44\n",
      "WARNING:tensorflow:Unresolved object in checkpoint: (root).layer_with_weights-24\n",
      "WARNING:tensorflow:Unresolved object in checkpoint: (root).layer_with_weights-25\n",
      "WARNING:tensorflow:Unresolved object in checkpoint: (root).layer-47\n",
      "WARNING:tensorflow:Unresolved object in checkpoint: (root).layer-48\n",
      "WARNING:tensorflow:Unresolved object in checkpoint: (root).layer_with_weights-26\n",
      "WARNING:tensorflow:Unresolved object in checkpoint: (root).layer_with_weights-27\n",
      "WARNING:tensorflow:Unresolved object in checkpoint: (root).layer-51\n",
      "WARNING:tensorflow:Unresolved object in checkpoint: (root).layer_with_weights-28\n",
      "WARNING:tensorflow:Unresolved object in checkpoint: (root).layer-53\n",
      "WARNING:tensorflow:Unresolved object in checkpoint: (root).layer_with_weights-1.axis\n",
      "WARNING:tensorflow:Unresolved object in checkpoint: (root).layer_with_weights-1.gamma\n",
      "WARNING:tensorflow:Unresolved object in checkpoint: (root).layer_with_weights-1.beta\n",
      "WARNING:tensorflow:Unresolved object in checkpoint: (root).layer_with_weights-1.moving_mean\n",
      "WARNING:tensorflow:Unresolved object in checkpoint: (root).layer_with_weights-1.moving_variance\n",
      "WARNING:tensorflow:Unresolved object in checkpoint: (root).layer_with_weights-3.axis\n",
      "WARNING:tensorflow:Unresolved object in checkpoint: (root).layer_with_weights-3.gamma\n",
      "WARNING:tensorflow:Unresolved object in checkpoint: (root).layer_with_weights-3.beta\n",
      "WARNING:tensorflow:Unresolved object in checkpoint: (root).layer_with_weights-3.moving_mean\n",
      "WARNING:tensorflow:Unresolved object in checkpoint: (root).layer_with_weights-3.moving_variance\n",
      "WARNING:tensorflow:Unresolved object in checkpoint: (root).layer_with_weights-4.kernel\n",
      "WARNING:tensorflow:Unresolved object in checkpoint: (root).layer_with_weights-5.axis\n",
      "WARNING:tensorflow:Unresolved object in checkpoint: (root).layer_with_weights-5.gamma\n",
      "WARNING:tensorflow:Unresolved object in checkpoint: (root).layer_with_weights-5.beta\n",
      "WARNING:tensorflow:Unresolved object in checkpoint: (root).layer_with_weights-5.moving_mean\n",
      "WARNING:tensorflow:Unresolved object in checkpoint: (root).layer_with_weights-5.moving_variance\n",
      "WARNING:tensorflow:Unresolved object in checkpoint: (root).layer_with_weights-6.kernel\n",
      "WARNING:tensorflow:Unresolved object in checkpoint: (root).layer_with_weights-7.axis\n",
      "WARNING:tensorflow:Unresolved object in checkpoint: (root).layer_with_weights-7.gamma\n",
      "WARNING:tensorflow:Unresolved object in checkpoint: (root).layer_with_weights-7.beta\n",
      "WARNING:tensorflow:Unresolved object in checkpoint: (root).layer_with_weights-7.moving_mean\n",
      "WARNING:tensorflow:Unresolved object in checkpoint: (root).layer_with_weights-7.moving_variance\n",
      "WARNING:tensorflow:Unresolved object in checkpoint: (root).layer_with_weights-8.kernel\n",
      "WARNING:tensorflow:Unresolved object in checkpoint: (root).layer_with_weights-9.axis\n",
      "WARNING:tensorflow:Unresolved object in checkpoint: (root).layer_with_weights-9.gamma\n",
      "WARNING:tensorflow:Unresolved object in checkpoint: (root).layer_with_weights-9.beta\n",
      "WARNING:tensorflow:Unresolved object in checkpoint: (root).layer_with_weights-9.moving_mean\n",
      "WARNING:tensorflow:Unresolved object in checkpoint: (root).layer_with_weights-9.moving_variance\n",
      "WARNING:tensorflow:Unresolved object in checkpoint: (root).layer_with_weights-10.kernel\n",
      "WARNING:tensorflow:Unresolved object in checkpoint: (root).layer_with_weights-11.axis\n",
      "WARNING:tensorflow:Unresolved object in checkpoint: (root).layer_with_weights-11.gamma\n",
      "WARNING:tensorflow:Unresolved object in checkpoint: (root).layer_with_weights-11.beta\n",
      "WARNING:tensorflow:Unresolved object in checkpoint: (root).layer_with_weights-11.moving_mean\n",
      "WARNING:tensorflow:Unresolved object in checkpoint: (root).layer_with_weights-11.moving_variance\n",
      "WARNING:tensorflow:Unresolved object in checkpoint: (root).layer_with_weights-12.kernel\n",
      "WARNING:tensorflow:Unresolved object in checkpoint: (root).layer_with_weights-13.axis\n",
      "WARNING:tensorflow:Unresolved object in checkpoint: (root).layer_with_weights-13.gamma\n",
      "WARNING:tensorflow:Unresolved object in checkpoint: (root).layer_with_weights-13.beta\n",
      "WARNING:tensorflow:Unresolved object in checkpoint: (root).layer_with_weights-13.moving_mean\n",
      "WARNING:tensorflow:Unresolved object in checkpoint: (root).layer_with_weights-13.moving_variance\n",
      "WARNING:tensorflow:Unresolved object in checkpoint: (root).layer_with_weights-14.kernel\n",
      "WARNING:tensorflow:Unresolved object in checkpoint: (root).layer_with_weights-15.axis\n",
      "WARNING:tensorflow:Unresolved object in checkpoint: (root).layer_with_weights-15.gamma\n",
      "WARNING:tensorflow:Unresolved object in checkpoint: (root).layer_with_weights-15.beta\n",
      "WARNING:tensorflow:Unresolved object in checkpoint: (root).layer_with_weights-15.moving_mean\n",
      "WARNING:tensorflow:Unresolved object in checkpoint: (root).layer_with_weights-15.moving_variance\n",
      "WARNING:tensorflow:Unresolved object in checkpoint: (root).layer_with_weights-16.kernel\n",
      "WARNING:tensorflow:Unresolved object in checkpoint: (root).layer_with_weights-17.axis\n",
      "WARNING:tensorflow:Unresolved object in checkpoint: (root).layer_with_weights-17.gamma\n",
      "WARNING:tensorflow:Unresolved object in checkpoint: (root).layer_with_weights-17.beta\n",
      "WARNING:tensorflow:Unresolved object in checkpoint: (root).layer_with_weights-17.moving_mean\n",
      "WARNING:tensorflow:Unresolved object in checkpoint: (root).layer_with_weights-17.moving_variance\n",
      "WARNING:tensorflow:Unresolved object in checkpoint: (root).layer_with_weights-18.kernel\n",
      "WARNING:tensorflow:Unresolved object in checkpoint: (root).layer_with_weights-19.axis\n",
      "WARNING:tensorflow:Unresolved object in checkpoint: (root).layer_with_weights-19.gamma\n",
      "WARNING:tensorflow:Unresolved object in checkpoint: (root).layer_with_weights-19.beta\n",
      "WARNING:tensorflow:Unresolved object in checkpoint: (root).layer_with_weights-19.moving_mean\n",
      "WARNING:tensorflow:Unresolved object in checkpoint: (root).layer_with_weights-19.moving_variance\n",
      "WARNING:tensorflow:Unresolved object in checkpoint: (root).layer_with_weights-20.kernel\n",
      "WARNING:tensorflow:Unresolved object in checkpoint: (root).layer_with_weights-21.axis\n",
      "WARNING:tensorflow:Unresolved object in checkpoint: (root).layer_with_weights-21.gamma\n",
      "WARNING:tensorflow:Unresolved object in checkpoint: (root).layer_with_weights-21.beta\n",
      "WARNING:tensorflow:Unresolved object in checkpoint: (root).layer_with_weights-21.moving_mean\n",
      "WARNING:tensorflow:Unresolved object in checkpoint: (root).layer_with_weights-21.moving_variance\n",
      "WARNING:tensorflow:Unresolved object in checkpoint: (root).layer_with_weights-22.kernel\n",
      "WARNING:tensorflow:Unresolved object in checkpoint: (root).layer_with_weights-23.axis\n",
      "WARNING:tensorflow:Unresolved object in checkpoint: (root).layer_with_weights-23.gamma\n",
      "WARNING:tensorflow:Unresolved object in checkpoint: (root).layer_with_weights-23.beta\n",
      "WARNING:tensorflow:Unresolved object in checkpoint: (root).layer_with_weights-23.moving_mean\n",
      "WARNING:tensorflow:Unresolved object in checkpoint: (root).layer_with_weights-23.moving_variance\n",
      "WARNING:tensorflow:Unresolved object in checkpoint: (root).layer_with_weights-24.kernel\n",
      "WARNING:tensorflow:Unresolved object in checkpoint: (root).layer_with_weights-25.axis\n",
      "WARNING:tensorflow:Unresolved object in checkpoint: (root).layer_with_weights-25.gamma\n",
      "WARNING:tensorflow:Unresolved object in checkpoint: (root).layer_with_weights-25.beta\n",
      "WARNING:tensorflow:Unresolved object in checkpoint: (root).layer_with_weights-25.moving_mean\n",
      "WARNING:tensorflow:Unresolved object in checkpoint: (root).layer_with_weights-25.moving_variance\n",
      "WARNING:tensorflow:Unresolved object in checkpoint: (root).layer_with_weights-26.kernel\n",
      "WARNING:tensorflow:Unresolved object in checkpoint: (root).layer_with_weights-27.axis\n",
      "WARNING:tensorflow:Unresolved object in checkpoint: (root).layer_with_weights-27.gamma\n",
      "WARNING:tensorflow:Unresolved object in checkpoint: (root).layer_with_weights-27.beta\n",
      "WARNING:tensorflow:Unresolved object in checkpoint: (root).layer_with_weights-27.moving_mean\n",
      "WARNING:tensorflow:Unresolved object in checkpoint: (root).layer_with_weights-27.moving_variance\n",
      "WARNING:tensorflow:Unresolved object in checkpoint: (root).layer_with_weights-28.kernel\n",
      "WARNING:tensorflow:Unresolved object in checkpoint: (root).layer_with_weights-28.bias\n",
      "WARNING:tensorflow:Unresolved object in checkpoint: (root).optimizer.iter\n",
      "WARNING:tensorflow:Unresolved object in checkpoint: (root).optimizer.beta_1\n",
      "WARNING:tensorflow:Unresolved object in checkpoint: (root).optimizer.beta_2\n",
      "WARNING:tensorflow:Unresolved object in checkpoint: (root).optimizer.decay\n",
      "WARNING:tensorflow:Unresolved object in checkpoint: (root).optimizer's state 'm' for (root).layer_with_weights-1.gamma\n",
      "WARNING:tensorflow:Unresolved object in checkpoint: (root).optimizer's state 'm' for (root).layer_with_weights-1.beta\n",
      "WARNING:tensorflow:Unresolved object in checkpoint: (root).optimizer's state 'm' for (root).layer_with_weights-2.kernel\n",
      "WARNING:tensorflow:Unresolved object in checkpoint: (root).optimizer's state 'm' for (root).layer_with_weights-3.gamma\n",
      "WARNING:tensorflow:Unresolved object in checkpoint: (root).optimizer's state 'm' for (root).layer_with_weights-3.beta\n",
      "WARNING:tensorflow:Unresolved object in checkpoint: (root).optimizer's state 'm' for (root).layer_with_weights-4.kernel\n",
      "WARNING:tensorflow:Unresolved object in checkpoint: (root).optimizer's state 'm' for (root).layer_with_weights-5.gamma\n",
      "WARNING:tensorflow:Unresolved object in checkpoint: (root).optimizer's state 'm' for (root).layer_with_weights-5.beta\n",
      "WARNING:tensorflow:Unresolved object in checkpoint: (root).optimizer's state 'm' for (root).layer_with_weights-6.kernel\n",
      "WARNING:tensorflow:Unresolved object in checkpoint: (root).optimizer's state 'm' for (root).layer_with_weights-7.gamma\n",
      "WARNING:tensorflow:Unresolved object in checkpoint: (root).optimizer's state 'm' for (root).layer_with_weights-7.beta\n",
      "WARNING:tensorflow:Unresolved object in checkpoint: (root).optimizer's state 'm' for (root).layer_with_weights-8.kernel\n",
      "WARNING:tensorflow:Unresolved object in checkpoint: (root).optimizer's state 'm' for (root).layer_with_weights-9.gamma\n",
      "WARNING:tensorflow:Unresolved object in checkpoint: (root).optimizer's state 'm' for (root).layer_with_weights-9.beta\n",
      "WARNING:tensorflow:Unresolved object in checkpoint: (root).optimizer's state 'm' for (root).layer_with_weights-10.kernel\n",
      "WARNING:tensorflow:Unresolved object in checkpoint: (root).optimizer's state 'm' for (root).layer_with_weights-11.gamma\n",
      "WARNING:tensorflow:Unresolved object in checkpoint: (root).optimizer's state 'm' for (root).layer_with_weights-11.beta\n",
      "WARNING:tensorflow:Unresolved object in checkpoint: (root).optimizer's state 'm' for (root).layer_with_weights-12.kernel\n",
      "WARNING:tensorflow:Unresolved object in checkpoint: (root).optimizer's state 'm' for (root).layer_with_weights-13.gamma\n",
      "WARNING:tensorflow:Unresolved object in checkpoint: (root).optimizer's state 'm' for (root).layer_with_weights-13.beta\n",
      "WARNING:tensorflow:Unresolved object in checkpoint: (root).optimizer's state 'm' for (root).layer_with_weights-14.kernel\n",
      "WARNING:tensorflow:Unresolved object in checkpoint: (root).optimizer's state 'm' for (root).layer_with_weights-15.gamma\n",
      "WARNING:tensorflow:Unresolved object in checkpoint: (root).optimizer's state 'm' for (root).layer_with_weights-15.beta\n",
      "WARNING:tensorflow:Unresolved object in checkpoint: (root).optimizer's state 'm' for (root).layer_with_weights-16.kernel\n",
      "WARNING:tensorflow:Unresolved object in checkpoint: (root).optimizer's state 'm' for (root).layer_with_weights-17.gamma\n",
      "WARNING:tensorflow:Unresolved object in checkpoint: (root).optimizer's state 'm' for (root).layer_with_weights-17.beta\n",
      "WARNING:tensorflow:Unresolved object in checkpoint: (root).optimizer's state 'm' for (root).layer_with_weights-18.kernel\n",
      "WARNING:tensorflow:Unresolved object in checkpoint: (root).optimizer's state 'm' for (root).layer_with_weights-19.gamma\n",
      "WARNING:tensorflow:Unresolved object in checkpoint: (root).optimizer's state 'm' for (root).layer_with_weights-19.beta\n",
      "WARNING:tensorflow:Unresolved object in checkpoint: (root).optimizer's state 'm' for (root).layer_with_weights-20.kernel\n",
      "WARNING:tensorflow:Unresolved object in checkpoint: (root).optimizer's state 'm' for (root).layer_with_weights-21.gamma\n",
      "WARNING:tensorflow:Unresolved object in checkpoint: (root).optimizer's state 'm' for (root).layer_with_weights-21.beta\n",
      "WARNING:tensorflow:Unresolved object in checkpoint: (root).optimizer's state 'm' for (root).layer_with_weights-22.kernel\n",
      "WARNING:tensorflow:Unresolved object in checkpoint: (root).optimizer's state 'm' for (root).layer_with_weights-23.gamma\n",
      "WARNING:tensorflow:Unresolved object in checkpoint: (root).optimizer's state 'm' for (root).layer_with_weights-23.beta\n",
      "WARNING:tensorflow:Unresolved object in checkpoint: (root).optimizer's state 'm' for (root).layer_with_weights-24.kernel\n",
      "WARNING:tensorflow:Unresolved object in checkpoint: (root).optimizer's state 'm' for (root).layer_with_weights-25.gamma\n",
      "WARNING:tensorflow:Unresolved object in checkpoint: (root).optimizer's state 'm' for (root).layer_with_weights-25.beta\n",
      "WARNING:tensorflow:Unresolved object in checkpoint: (root).optimizer's state 'm' for (root).layer_with_weights-26.kernel\n",
      "WARNING:tensorflow:Unresolved object in checkpoint: (root).optimizer's state 'm' for (root).layer_with_weights-27.gamma\n",
      "WARNING:tensorflow:Unresolved object in checkpoint: (root).optimizer's state 'm' for (root).layer_with_weights-27.beta\n",
      "WARNING:tensorflow:Unresolved object in checkpoint: (root).optimizer's state 'm' for (root).layer_with_weights-28.kernel\n",
      "WARNING:tensorflow:Unresolved object in checkpoint: (root).optimizer's state 'm' for (root).layer_with_weights-28.bias\n",
      "WARNING:tensorflow:Unresolved object in checkpoint: (root).optimizer's state 'v' for (root).layer_with_weights-1.gamma\n",
      "WARNING:tensorflow:Unresolved object in checkpoint: (root).optimizer's state 'v' for (root).layer_with_weights-1.beta\n",
      "WARNING:tensorflow:Unresolved object in checkpoint: (root).optimizer's state 'v' for (root).layer_with_weights-2.kernel\n",
      "WARNING:tensorflow:Unresolved object in checkpoint: (root).optimizer's state 'v' for (root).layer_with_weights-3.gamma\n",
      "WARNING:tensorflow:Unresolved object in checkpoint: (root).optimizer's state 'v' for (root).layer_with_weights-3.beta\n",
      "WARNING:tensorflow:Unresolved object in checkpoint: (root).optimizer's state 'v' for (root).layer_with_weights-4.kernel\n",
      "WARNING:tensorflow:Unresolved object in checkpoint: (root).optimizer's state 'v' for (root).layer_with_weights-5.gamma\n",
      "WARNING:tensorflow:Unresolved object in checkpoint: (root).optimizer's state 'v' for (root).layer_with_weights-5.beta\n",
      "WARNING:tensorflow:Unresolved object in checkpoint: (root).optimizer's state 'v' for (root).layer_with_weights-6.kernel\n",
      "WARNING:tensorflow:Unresolved object in checkpoint: (root).optimizer's state 'v' for (root).layer_with_weights-7.gamma\n",
      "WARNING:tensorflow:Unresolved object in checkpoint: (root).optimizer's state 'v' for (root).layer_with_weights-7.beta\n",
      "WARNING:tensorflow:Unresolved object in checkpoint: (root).optimizer's state 'v' for (root).layer_with_weights-8.kernel\n",
      "WARNING:tensorflow:Unresolved object in checkpoint: (root).optimizer's state 'v' for (root).layer_with_weights-9.gamma\n",
      "WARNING:tensorflow:Unresolved object in checkpoint: (root).optimizer's state 'v' for (root).layer_with_weights-9.beta\n",
      "WARNING:tensorflow:Unresolved object in checkpoint: (root).optimizer's state 'v' for (root).layer_with_weights-10.kernel\n",
      "WARNING:tensorflow:Unresolved object in checkpoint: (root).optimizer's state 'v' for (root).layer_with_weights-11.gamma\n",
      "WARNING:tensorflow:Unresolved object in checkpoint: (root).optimizer's state 'v' for (root).layer_with_weights-11.beta\n",
      "WARNING:tensorflow:Unresolved object in checkpoint: (root).optimizer's state 'v' for (root).layer_with_weights-12.kernel\n",
      "WARNING:tensorflow:Unresolved object in checkpoint: (root).optimizer's state 'v' for (root).layer_with_weights-13.gamma\n",
      "WARNING:tensorflow:Unresolved object in checkpoint: (root).optimizer's state 'v' for (root).layer_with_weights-13.beta\n",
      "WARNING:tensorflow:Unresolved object in checkpoint: (root).optimizer's state 'v' for (root).layer_with_weights-14.kernel\n",
      "WARNING:tensorflow:Unresolved object in checkpoint: (root).optimizer's state 'v' for (root).layer_with_weights-15.gamma\n",
      "WARNING:tensorflow:Unresolved object in checkpoint: (root).optimizer's state 'v' for (root).layer_with_weights-15.beta\n",
      "WARNING:tensorflow:Unresolved object in checkpoint: (root).optimizer's state 'v' for (root).layer_with_weights-16.kernel\n",
      "WARNING:tensorflow:Unresolved object in checkpoint: (root).optimizer's state 'v' for (root).layer_with_weights-17.gamma\n",
      "WARNING:tensorflow:Unresolved object in checkpoint: (root).optimizer's state 'v' for (root).layer_with_weights-17.beta\n",
      "WARNING:tensorflow:Unresolved object in checkpoint: (root).optimizer's state 'v' for (root).layer_with_weights-18.kernel\n",
      "WARNING:tensorflow:Unresolved object in checkpoint: (root).optimizer's state 'v' for (root).layer_with_weights-19.gamma\n",
      "WARNING:tensorflow:Unresolved object in checkpoint: (root).optimizer's state 'v' for (root).layer_with_weights-19.beta\n",
      "WARNING:tensorflow:Unresolved object in checkpoint: (root).optimizer's state 'v' for (root).layer_with_weights-20.kernel\n",
      "WARNING:tensorflow:Unresolved object in checkpoint: (root).optimizer's state 'v' for (root).layer_with_weights-21.gamma\n",
      "WARNING:tensorflow:Unresolved object in checkpoint: (root).optimizer's state 'v' for (root).layer_with_weights-21.beta\n",
      "WARNING:tensorflow:Unresolved object in checkpoint: (root).optimizer's state 'v' for (root).layer_with_weights-22.kernel\n",
      "WARNING:tensorflow:Unresolved object in checkpoint: (root).optimizer's state 'v' for (root).layer_with_weights-23.gamma\n",
      "WARNING:tensorflow:Unresolved object in checkpoint: (root).optimizer's state 'v' for (root).layer_with_weights-23.beta\n",
      "WARNING:tensorflow:Unresolved object in checkpoint: (root).optimizer's state 'v' for (root).layer_with_weights-24.kernel\n",
      "WARNING:tensorflow:Unresolved object in checkpoint: (root).optimizer's state 'v' for (root).layer_with_weights-25.gamma\n",
      "WARNING:tensorflow:Unresolved object in checkpoint: (root).optimizer's state 'v' for (root).layer_with_weights-25.beta\n",
      "WARNING:tensorflow:Unresolved object in checkpoint: (root).optimizer's state 'v' for (root).layer_with_weights-26.kernel\n",
      "WARNING:tensorflow:Unresolved object in checkpoint: (root).optimizer's state 'v' for (root).layer_with_weights-27.gamma\n",
      "WARNING:tensorflow:Unresolved object in checkpoint: (root).optimizer's state 'v' for (root).layer_with_weights-27.beta\n",
      "WARNING:tensorflow:Unresolved object in checkpoint: (root).optimizer's state 'v' for (root).layer_with_weights-28.kernel\n",
      "WARNING:tensorflow:Unresolved object in checkpoint: (root).optimizer's state 'v' for (root).layer_with_weights-28.bias\n",
      "WARNING:tensorflow:A checkpoint was restored (e.g. tf.train.Checkpoint.restore or tf.keras.Model.load_weights) but not all checkpointed values were used. See above for specific issues. Use expect_partial() on the load status object, e.g. tf.train.Checkpoint.restore(...).expect_partial(), to silence these warnings, or use assert_consumed() to make the check explicit. See https://www.tensorflow.org/guide/checkpoint#loading_mechanics for details.\n"
     ]
    }
   ],
   "source": [
    "sns.set(rc={'figure.figsize':(11.7,8.27)})\n",
    "palette = sns.color_palette(\"bright\", 2)\n",
    "sns.scatterplot(tsne_results[:,0], tsne_results[:,1], hue=color_map, legend='full', palette=palette)"
   ]
  },
  {
   "cell_type": "code",
   "execution_count": null,
   "id": "667da5f6-d698-4e6e-8b82-4e2526588173",
   "metadata": {},
   "outputs": [],
   "source": []
  }
 ],
 "metadata": {
  "kernelspec": {
   "display_name": "Python 3",
   "language": "python",
   "name": "python3"
  },
  "language_info": {
   "codemirror_mode": {
    "name": "ipython",
    "version": 3
   },
   "file_extension": ".py",
   "mimetype": "text/x-python",
   "name": "python",
   "nbconvert_exporter": "python",
   "pygments_lexer": "ipython3",
   "version": "3.8.8"
  }
 },
 "nbformat": 4,
 "nbformat_minor": 5
}
